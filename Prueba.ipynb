{
  "nbformat": 4,
  "nbformat_minor": 0,
  "metadata": {
    "colab": {
      "name": "Prueba.ipynb",
      "version": "0.3.2",
      "provenance": [],
      "collapsed_sections": [],
      "include_colab_link": true
    },
    "kernelspec": {
      "name": "python3",
      "display_name": "Python 3"
    },
    "accelerator": "GPU"
  },
  "cells": [
    {
      "cell_type": "markdown",
      "metadata": {
        "id": "view-in-github",
        "colab_type": "text"
      },
      "source": [
        "<a href=\"https://colab.research.google.com/github/NyxJuan/Python/blob/master/Prueba.ipynb\" target=\"_parent\"><img src=\"https://colab.research.google.com/assets/colab-badge.svg\" alt=\"Open In Colab\"/></a>"
      ]
    },
    {
      "cell_type": "code",
      "metadata": {
        "id": "kHmiEDvxn4NR",
        "colab_type": "code",
        "colab": {
          "base_uri": "https://localhost:8080/",
          "height": 508
        },
        "outputId": "22fea41b-21fa-492d-cced-aa3d4309a081"
      },
      "source": [
        "from tensorflow.python.client import device_lib\n",
        "device_lib.list_local_devices()"
      ],
      "execution_count": 1,
      "outputs": [
        {
          "output_type": "execute_result",
          "data": {
            "text/plain": [
              "[name: \"/device:CPU:0\"\n",
              " device_type: \"CPU\"\n",
              " memory_limit: 268435456\n",
              " locality {\n",
              " }\n",
              " incarnation: 3363873430200303145, name: \"/device:XLA_CPU:0\"\n",
              " device_type: \"XLA_CPU\"\n",
              " memory_limit: 17179869184\n",
              " locality {\n",
              " }\n",
              " incarnation: 3233173509558797219\n",
              " physical_device_desc: \"device: XLA_CPU device\", name: \"/device:XLA_GPU:0\"\n",
              " device_type: \"XLA_GPU\"\n",
              " memory_limit: 17179869184\n",
              " locality {\n",
              " }\n",
              " incarnation: 2919217173459688649\n",
              " physical_device_desc: \"device: XLA_GPU device\", name: \"/device:GPU:0\"\n",
              " device_type: \"GPU\"\n",
              " memory_limit: 14892338381\n",
              " locality {\n",
              "   bus_id: 1\n",
              "   links {\n",
              "   }\n",
              " }\n",
              " incarnation: 6154095556420372189\n",
              " physical_device_desc: \"device: 0, name: Tesla T4, pci bus id: 0000:00:04.0, compute capability: 7.5\"]"
            ]
          },
          "metadata": {
            "tags": []
          },
          "execution_count": 1
        }
      ]
    },
    {
      "cell_type": "code",
      "metadata": {
        "id": "3mGzCChJpEd3",
        "colab_type": "code",
        "colab": {
          "base_uri": "https://localhost:8080/",
          "height": 380
        },
        "outputId": "c21a2936-d0c9-4e2b-df0e-216501027604"
      },
      "source": [
        "!pip install tensorflow"
      ],
      "execution_count": 4,
      "outputs": [
        {
          "output_type": "stream",
          "text": [
            "Requirement already satisfied: tensorflow in /usr/local/lib/python3.6/dist-packages (1.14.0)\n",
            "Requirement already satisfied: tensorflow-estimator<1.15.0rc0,>=1.14.0rc0 in /usr/local/lib/python3.6/dist-packages (from tensorflow) (1.14.0)\n",
            "Requirement already satisfied: termcolor>=1.1.0 in /usr/local/lib/python3.6/dist-packages (from tensorflow) (1.1.0)\n",
            "Requirement already satisfied: astor>=0.6.0 in /usr/local/lib/python3.6/dist-packages (from tensorflow) (0.8.0)\n",
            "Requirement already satisfied: six>=1.10.0 in /usr/local/lib/python3.6/dist-packages (from tensorflow) (1.12.0)\n",
            "Requirement already satisfied: wheel>=0.26 in /usr/local/lib/python3.6/dist-packages (from tensorflow) (0.33.4)\n",
            "Requirement already satisfied: google-pasta>=0.1.6 in /usr/local/lib/python3.6/dist-packages (from tensorflow) (0.1.7)\n",
            "Requirement already satisfied: tensorboard<1.15.0,>=1.14.0 in /usr/local/lib/python3.6/dist-packages (from tensorflow) (1.14.0)\n",
            "Requirement already satisfied: gast>=0.2.0 in /usr/local/lib/python3.6/dist-packages (from tensorflow) (0.2.2)\n",
            "Requirement already satisfied: numpy<2.0,>=1.14.5 in /usr/local/lib/python3.6/dist-packages (from tensorflow) (1.16.4)\n",
            "Requirement already satisfied: absl-py>=0.7.0 in /usr/local/lib/python3.6/dist-packages (from tensorflow) (0.7.1)\n",
            "Requirement already satisfied: protobuf>=3.6.1 in /usr/local/lib/python3.6/dist-packages (from tensorflow) (3.7.1)\n",
            "Requirement already satisfied: keras-preprocessing>=1.0.5 in /usr/local/lib/python3.6/dist-packages (from tensorflow) (1.1.0)\n",
            "Requirement already satisfied: grpcio>=1.8.6 in /usr/local/lib/python3.6/dist-packages (from tensorflow) (1.15.0)\n",
            "Requirement already satisfied: wrapt>=1.11.1 in /usr/local/lib/python3.6/dist-packages (from tensorflow) (1.11.2)\n",
            "Requirement already satisfied: keras-applications>=1.0.6 in /usr/local/lib/python3.6/dist-packages (from tensorflow) (1.0.8)\n",
            "Requirement already satisfied: markdown>=2.6.8 in /usr/local/lib/python3.6/dist-packages (from tensorboard<1.15.0,>=1.14.0->tensorflow) (3.1.1)\n",
            "Requirement already satisfied: werkzeug>=0.11.15 in /usr/local/lib/python3.6/dist-packages (from tensorboard<1.15.0,>=1.14.0->tensorflow) (0.15.4)\n",
            "Requirement already satisfied: setuptools>=41.0.0 in /usr/local/lib/python3.6/dist-packages (from tensorboard<1.15.0,>=1.14.0->tensorflow) (41.0.1)\n",
            "Requirement already satisfied: h5py in /usr/local/lib/python3.6/dist-packages (from keras-applications>=1.0.6->tensorflow) (2.8.0)\n"
          ],
          "name": "stdout"
        }
      ]
    },
    {
      "cell_type": "code",
      "metadata": {
        "id": "X27rMgxtpU0N",
        "colab_type": "code",
        "colab": {
          "base_uri": "https://localhost:8080/",
          "height": 399
        },
        "outputId": "e9258453-d564-496f-82e5-10a52d9e857e"
      },
      "source": [
        "!wget clone https://github.com/llSourcell/YOLO_Object_Detection.git"
      ],
      "execution_count": 5,
      "outputs": [
        {
          "output_type": "stream",
          "text": [
            "--2019-06-30 23:07:40--  http://clone/\n",
            "Resolving clone (clone)... failed: Name or service not known.\n",
            "wget: unable to resolve host address ‘clone’\n",
            "--2019-06-30 23:07:45--  https://github.com/llSourcell/YOLO_Object_Detection.git\n",
            "Resolving github.com (github.com)... 192.30.253.112\n",
            "Connecting to github.com (github.com)|192.30.253.112|:443... connected.\n",
            "HTTP request sent, awaiting response... 301 Moved Permanently\n",
            "Location: https://github.com/llSourcell/YOLO_Object_Detection [following]\n",
            "--2019-06-30 23:07:45--  https://github.com/llSourcell/YOLO_Object_Detection\n",
            "Reusing existing connection to github.com:443.\n",
            "HTTP request sent, awaiting response... 200 OK\n",
            "Length: unspecified [text/html]\n",
            "Saving to: ‘YOLO_Object_Detection.git’\n",
            "\n",
            "YOLO_Object_Detecti     [ <=>                ] 111.42K  --.-KB/s    in 0.08s   \n",
            "\n",
            "2019-06-30 23:07:45 (1.42 MB/s) - ‘YOLO_Object_Detection.git’ saved [114095]\n",
            "\n",
            "FINISHED --2019-06-30 23:07:45--\n",
            "Total wall clock time: 5.5s\n",
            "Downloaded: 1 files, 111K in 0.08s (1.42 MB/s)\n"
          ],
          "name": "stdout"
        }
      ]
    },
    {
      "cell_type": "code",
      "metadata": {
        "id": "unYrnCKDpxps",
        "colab_type": "code",
        "colab": {
          "base_uri": "https://localhost:8080/",
          "height": 72
        },
        "outputId": "2d77d64b-cd45-4aa3-f5f4-75b59e25b760"
      },
      "source": [
        "!ls"
      ],
      "execution_count": 8,
      "outputs": [
        {
          "output_type": "stream",
          "text": [
            "bin\t datalab  home\t lib64\topt   run   swift\t\ttmp    var\n",
            "boot\t dev\t  lib\t media\tproc  sbin  sys\t\t\ttools\n",
            "content  etc\t  lib32  mnt\troot  srv   tensorflow-2.0.0b1\tusr\n"
          ],
          "name": "stdout"
        }
      ]
    },
    {
      "cell_type": "code",
      "metadata": {
        "id": "9bCuSGT4p85V",
        "colab_type": "code",
        "colab": {
          "base_uri": "https://localhost:8080/",
          "height": 35
        },
        "outputId": "b57c45e0-c12c-4e05-a147-ce57c478fc08"
      },
      "source": [
        "cd content"
      ],
      "execution_count": 9,
      "outputs": [
        {
          "output_type": "stream",
          "text": [
            "/content\n"
          ],
          "name": "stdout"
        }
      ]
    },
    {
      "cell_type": "code",
      "metadata": {
        "id": "Nv4sdM0FqFOD",
        "colab_type": "code",
        "colab": {
          "base_uri": "https://localhost:8080/",
          "height": 35
        },
        "outputId": "c58db4f0-f832-4976-ae19-262461b5cab7"
      },
      "source": [
        "!ls"
      ],
      "execution_count": 10,
      "outputs": [
        {
          "output_type": "stream",
          "text": [
            "sample_data  YOLO_Object_Detection.git\n"
          ],
          "name": "stdout"
        }
      ]
    },
    {
      "cell_type": "code",
      "metadata": {
        "id": "1zFLFV73qF80",
        "colab_type": "code",
        "colab": {
          "base_uri": "https://localhost:8080/",
          "height": 35
        },
        "outputId": "f961fc30-0baf-4e24-d08b-c9fe3f0e7598"
      },
      "source": [
        "cd sample_data"
      ],
      "execution_count": 11,
      "outputs": [
        {
          "output_type": "stream",
          "text": [
            "/content/sample_data\n"
          ],
          "name": "stdout"
        }
      ]
    },
    {
      "cell_type": "code",
      "metadata": {
        "id": "kD8L-Sa4qJAT",
        "colab_type": "code",
        "colab": {
          "base_uri": "https://localhost:8080/",
          "height": 72
        },
        "outputId": "d2659c75-fdbd-427f-a32d-cfc572489b54"
      },
      "source": [
        "!ls"
      ],
      "execution_count": 12,
      "outputs": [
        {
          "output_type": "stream",
          "text": [
            "anscombe.json\t\t      mnist_test.csv\n",
            "california_housing_test.csv   mnist_train_small.csv\n",
            "california_housing_train.csv  README.md\n"
          ],
          "name": "stdout"
        }
      ]
    },
    {
      "cell_type": "code",
      "metadata": {
        "id": "kKPZXQ2JqKOW",
        "colab_type": "code",
        "colab": {}
      },
      "source": [
        "!rm mnist_test.csv"
      ],
      "execution_count": 0,
      "outputs": []
    },
    {
      "cell_type": "code",
      "metadata": {
        "id": "TU5aTyXOqN7N",
        "colab_type": "code",
        "colab": {
          "base_uri": "https://localhost:8080/",
          "height": 53
        },
        "outputId": "52901126-1c6a-4ab4-9b20-5301f2dfa317"
      },
      "source": [
        "!ls"
      ],
      "execution_count": 14,
      "outputs": [
        {
          "output_type": "stream",
          "text": [
            "anscombe.json\t\t     california_housing_train.csv  README.md\n",
            "california_housing_test.csv  mnist_train_small.csv\n"
          ],
          "name": "stdout"
        }
      ]
    },
    {
      "cell_type": "code",
      "metadata": {
        "id": "015guEAzqOgL",
        "colab_type": "code",
        "colab": {
          "base_uri": "https://localhost:8080/",
          "height": 362
        },
        "outputId": "09302c00-545d-4199-fdbc-3d2e5aebe71c"
      },
      "source": [
        "!cat README.md"
      ],
      "execution_count": 15,
      "outputs": [
        {
          "output_type": "stream",
          "text": [
            "This directory includes a few sample datasets to get you started.\n",
            "\n",
            "*   `california_housing_data*.csv` is California housing data from the 1990 US\n",
            "    Census; more information is available at:\n",
            "    https://developers.google.com/machine-learning/crash-course/california-housing-data-description\n",
            "\n",
            "*   `mnist_*.csv` is a small sample of the\n",
            "    [MNIST database](https://en.wikipedia.org/wiki/MNIST_database), which is\n",
            "    described at: http://yann.lecun.com/exdb/mnist/\n",
            "\n",
            "*   `anscombe.json` contains a copy of\n",
            "    [Anscombe's quartet](https://en.wikipedia.org/wiki/Anscombe%27s_quartet); it\n",
            "    was originally described in\n",
            "\n",
            "    Anscombe, F. J. (1973). 'Graphs in Statistical Analysis'. American\n",
            "    Statistician. 27 (1): 17-21. JSTOR 2682899.\n",
            "\n",
            "    and our copy was prepared by the\n",
            "    [vega_datasets library](https://github.com/altair-viz/vega_datasets/blob/4f67bdaad10f45e3549984e17e1b3088c731503d/vega_datasets/_data/anscombe.json).\n"
          ],
          "name": "stdout"
        }
      ]
    },
    {
      "cell_type": "code",
      "metadata": {
        "id": "gr3PNde9qSQ1",
        "colab_type": "code",
        "colab": {}
      },
      "source": [
        "from google.colab import files\n",
        "import pandas as pd"
      ],
      "execution_count": 0,
      "outputs": []
    },
    {
      "cell_type": "code",
      "metadata": {
        "id": "BP8Wr6SqqjbF",
        "colab_type": "code",
        "colab": {
          "resources": {
            "http://localhost:8080/nbextensions/google.colab/files.js": {
              "data": "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",
              "ok": true,
              "headers": [
                [
                  "content-type",
                  "application/javascript"
                ]
              ],
              "status": 200,
              "status_text": "OK"
            }
          },
          "base_uri": "https://localhost:8080/",
          "height": 75
        },
        "outputId": "8a326e7d-bb92-41d4-d6a7-5c1f95874b84"
      },
      "source": [
        "uploaded = files.upload()"
      ],
      "execution_count": 18,
      "outputs": [
        {
          "output_type": "display_data",
          "data": {
            "text/html": [
              "\n",
              "     <input type=\"file\" id=\"files-fe3a911c-10ad-4ba1-a274-9d07342cfeb5\" name=\"files[]\" multiple disabled />\n",
              "     <output id=\"result-fe3a911c-10ad-4ba1-a274-9d07342cfeb5\">\n",
              "      Upload widget is only available when the cell has been executed in the\n",
              "      current browser session. Please rerun this cell to enable.\n",
              "      </output>\n",
              "      <script src=\"/nbextensions/google.colab/files.js\"></script> "
            ],
            "text/plain": [
              "<IPython.core.display.HTML object>"
            ]
          },
          "metadata": {
            "tags": []
          }
        },
        {
          "output_type": "stream",
          "text": [
            "Saving credit data.csv to credit data.csv\n"
          ],
          "name": "stdout"
        }
      ]
    },
    {
      "cell_type": "code",
      "metadata": {
        "id": "kh3GjZ67qbZX",
        "colab_type": "code",
        "colab": {
          "base_uri": "https://localhost:8080/",
          "height": 1000
        },
        "outputId": "04323962-8193-478e-e216-9e68deef9c0a"
      },
      "source": [
        "pd.read_csv('credit data.csv')"
      ],
      "execution_count": 21,
      "outputs": [
        {
          "output_type": "execute_result",
          "data": {
            "text/html": [
              "<div>\n",
              "<style scoped>\n",
              "    .dataframe tbody tr th:only-of-type {\n",
              "        vertical-align: middle;\n",
              "    }\n",
              "\n",
              "    .dataframe tbody tr th {\n",
              "        vertical-align: top;\n",
              "    }\n",
              "\n",
              "    .dataframe thead th {\n",
              "        text-align: right;\n",
              "    }\n",
              "</style>\n",
              "<table border=\"1\" class=\"dataframe\">\n",
              "  <thead>\n",
              "    <tr style=\"text-align: right;\">\n",
              "      <th></th>\n",
              "      <th>Id;SeriousDlqin2yrs;RevolvingUtilizationOfUnsecuredLines;age;NumberOfTime30-59DaysPastDueNotWorse;DebtRatio;MonthlyIncome;NumberOfOpenCreditLinesAndLoans;NumberOfTimes90DaysLate;NumberRealEstateLoansOrLines;NumberOfTime60-89DaysPastDueNotWorse;NumberOfDependents;cohort_date</th>\n",
              "    </tr>\n",
              "  </thead>\n",
              "  <tbody>\n",
              "    <tr>\n",
              "      <th>0</th>\n",
              "      <td>1;1;0.766126609;45;2;0.802982129;9120;13;0;6;0...</td>\n",
              "    </tr>\n",
              "    <tr>\n",
              "      <th>1</th>\n",
              "      <td>2;0;0.957151019;40;0;0.121876201;2600;4;0;0;0;...</td>\n",
              "    </tr>\n",
              "    <tr>\n",
              "      <th>2</th>\n",
              "      <td>3;0;0.65818014;38;1;0.085113375;3042;2;1;0;0;0...</td>\n",
              "    </tr>\n",
              "    <tr>\n",
              "      <th>3</th>\n",
              "      <td>4;0;0.233809776;30;0;0.036049682;3300;5;0;0;0;...</td>\n",
              "    </tr>\n",
              "    <tr>\n",
              "      <th>4</th>\n",
              "      <td>5;0;0.9072394;49;1;0.024925695;63588;7;0;1;0;0...</td>\n",
              "    </tr>\n",
              "    <tr>\n",
              "      <th>5</th>\n",
              "      <td>6;0;0.213178682;74;0;0.375606969;3500;3;0;1;0;...</td>\n",
              "    </tr>\n",
              "    <tr>\n",
              "      <th>6</th>\n",
              "      <td>7;0;0.305682465;57;0;5710;NA;8;0;3;0;0;12/12/2015</td>\n",
              "    </tr>\n",
              "    <tr>\n",
              "      <th>7</th>\n",
              "      <td>8;0;0.754463648;39;0;0.209940017;3500;8;0;0;0;...</td>\n",
              "    </tr>\n",
              "    <tr>\n",
              "      <th>8</th>\n",
              "      <td>9;0;0.116950644;27;0;46;NA;2;0;0;0;NA;22/06/2014</td>\n",
              "    </tr>\n",
              "    <tr>\n",
              "      <th>9</th>\n",
              "      <td>10;0;0.189169052;57;0;0.606290901;23684;9;0;4;...</td>\n",
              "    </tr>\n",
              "    <tr>\n",
              "      <th>10</th>\n",
              "      <td>11;0;0.644225962;30;0;0.30947621;2500;5;0;0;0;...</td>\n",
              "    </tr>\n",
              "    <tr>\n",
              "      <th>11</th>\n",
              "      <td>12;0;0.01879812;51;0;0.53152876;6501;7;0;2;0;2...</td>\n",
              "    </tr>\n",
              "    <tr>\n",
              "      <th>12</th>\n",
              "      <td>13;0;0.010351857;46;0;0.298354075;12454;13;0;2...</td>\n",
              "    </tr>\n",
              "    <tr>\n",
              "      <th>13</th>\n",
              "      <td>14;1;0.964672555;40;3;0.382964747;13700;9;3;1;...</td>\n",
              "    </tr>\n",
              "    <tr>\n",
              "      <th>14</th>\n",
              "      <td>15;0;0.019656581;76;0;477;0;6;0;1;0;0;09/03/2016</td>\n",
              "    </tr>\n",
              "    <tr>\n",
              "      <th>15</th>\n",
              "      <td>16;0;0.548458062;64;0;0.209891754;11362;7;0;1;...</td>\n",
              "    </tr>\n",
              "    <tr>\n",
              "      <th>16</th>\n",
              "      <td>17;0;0.061086118;78;0;2058;NA;10;0;2;0;0;28/06...</td>\n",
              "    </tr>\n",
              "    <tr>\n",
              "      <th>17</th>\n",
              "      <td>18;0;0.166284079;53;0;0.18827406;8800;7;0;0;0;...</td>\n",
              "    </tr>\n",
              "    <tr>\n",
              "      <th>18</th>\n",
              "      <td>19;0;0.221812771;43;0;0.527887839;3280;7;0;1;0...</td>\n",
              "    </tr>\n",
              "    <tr>\n",
              "      <th>19</th>\n",
              "      <td>20;0;0.602794411;25;0;0.065868263;333;2;0;0;0;...</td>\n",
              "    </tr>\n",
              "    <tr>\n",
              "      <th>20</th>\n",
              "      <td>21;0;0.200923382;43;0;0.430046338;12300;10;0;2...</td>\n",
              "    </tr>\n",
              "    <tr>\n",
              "      <th>21</th>\n",
              "      <td>22;1;0.025655677;38;0;0.475841386;3000;7;0;1;0...</td>\n",
              "    </tr>\n",
              "    <tr>\n",
              "      <th>22</th>\n",
              "      <td>23;0;0.9999999;39;0;0.241103559;2500;4;0;0;0;0...</td>\n",
              "    </tr>\n",
              "    <tr>\n",
              "      <th>23</th>\n",
              "      <td>24;0;0.075426584;32;0;0.085512189;7916;6;0;0;0...</td>\n",
              "    </tr>\n",
              "    <tr>\n",
              "      <th>24</th>\n",
              "      <td>25;0;0.04656027;58;0;0.241621845;2416;9;0;1;0;...</td>\n",
              "    </tr>\n",
              "    <tr>\n",
              "      <th>25</th>\n",
              "      <td>26;1;0.392248482;50;0;1.595253368;4676;14;0;3;...</td>\n",
              "    </tr>\n",
              "    <tr>\n",
              "      <th>26</th>\n",
              "      <td>27;0;0.052436094;58;0;0.097672186;8333;22;0;1;...</td>\n",
              "    </tr>\n",
              "    <tr>\n",
              "      <th>27</th>\n",
              "      <td>28;0;0.034421473;69;0;0.042383047;2500;17;0;0;...</td>\n",
              "    </tr>\n",
              "    <tr>\n",
              "      <th>28</th>\n",
              "      <td>29;0;0.452515828;24;0;0.011761247;3400;1;0;0;0...</td>\n",
              "    </tr>\n",
              "    <tr>\n",
              "      <th>29</th>\n",
              "      <td>30;0;0.392994586;58;2;0.436102527;5500;15;0;1;...</td>\n",
              "    </tr>\n",
              "    <tr>\n",
              "      <th>...</th>\n",
              "      <td>...</td>\n",
              "    </tr>\n",
              "    <tr>\n",
              "      <th>149970</th>\n",
              "      <td>149971;0;0.025449081;58;0;0.25385459;15500;7;0...</td>\n",
              "    </tr>\n",
              "    <tr>\n",
              "      <th>149971</th>\n",
              "      <td>149972;0;0.058000533;83;0;0.013997201;5000;6;0...</td>\n",
              "    </tr>\n",
              "    <tr>\n",
              "      <th>149972</th>\n",
              "      <td>149973;0;0.071273404;42;0;0.008638065;6945;3;0...</td>\n",
              "    </tr>\n",
              "    <tr>\n",
              "      <th>149973</th>\n",
              "      <td>149974;0;1.026394721;44;0;0.494819124;5500;7;0...</td>\n",
              "    </tr>\n",
              "    <tr>\n",
              "      <th>149974</th>\n",
              "      <td>149975;0;0.962721342;61;2;0.603479304;5000;11;...</td>\n",
              "    </tr>\n",
              "    <tr>\n",
              "      <th>149975</th>\n",
              "      <td>149976;0;0.022088398;58;0;2716;NA;8;0;2;0;0;02...</td>\n",
              "    </tr>\n",
              "    <tr>\n",
              "      <th>149976</th>\n",
              "      <td>149977;0;0.000627439;76;0;60;NA;5;0;0;0;0;02/0...</td>\n",
              "    </tr>\n",
              "    <tr>\n",
              "      <th>149977</th>\n",
              "      <td>149978;0;0.236449864;29;0;349;NA;3;0;0;0;0;09/...</td>\n",
              "    </tr>\n",
              "    <tr>\n",
              "      <th>149978</th>\n",
              "      <td>149979;0;0.917635296;52;2;0.259496202;2500;4;0...</td>\n",
              "    </tr>\n",
              "    <tr>\n",
              "      <th>149979</th>\n",
              "      <td>149980;1;0.224710924;55;0;0.057234801;8700;7;0...</td>\n",
              "    </tr>\n",
              "    <tr>\n",
              "      <th>149980</th>\n",
              "      <td>149981;0;0.067643815;64;0;0.254976475;5525;12;...</td>\n",
              "    </tr>\n",
              "    <tr>\n",
              "      <th>149981</th>\n",
              "      <td>149982;0;0.810012257;43;0;0.121751825;6849;4;0...</td>\n",
              "    </tr>\n",
              "    <tr>\n",
              "      <th>149982</th>\n",
              "      <td>149983;0;0.021046019;37;0;0.250271641;2760;8;0...</td>\n",
              "    </tr>\n",
              "    <tr>\n",
              "      <th>149983</th>\n",
              "      <td>149984;0;0.002484811;82;0;0.00079984;5000;5;0;...</td>\n",
              "    </tr>\n",
              "    <tr>\n",
              "      <th>149984</th>\n",
              "      <td>149985;0;0.037548123;84;0;25;NA;5;0;0;0;0;03/0...</td>\n",
              "    </tr>\n",
              "    <tr>\n",
              "      <th>149985</th>\n",
              "      <td>149986;0;0.954409118;26;0;0.324961558;1950;4;0...</td>\n",
              "    </tr>\n",
              "    <tr>\n",
              "      <th>149986</th>\n",
              "      <td>149987;0;0.168101659;49;0;0.080383923;5000;16;...</td>\n",
              "    </tr>\n",
              "    <tr>\n",
              "      <th>149987</th>\n",
              "      <td>149988;0;0.9999999;28;0;0.055692308;3249;3;1;0...</td>\n",
              "    </tr>\n",
              "    <tr>\n",
              "      <th>149988</th>\n",
              "      <td>149989;0;0.902050553;31;1;0.347924428;7515;10;...</td>\n",
              "    </tr>\n",
              "    <tr>\n",
              "      <th>149989</th>\n",
              "      <td>149990;0;0.013355707;62;0;0.001407841;9233;4;0...</td>\n",
              "    </tr>\n",
              "    <tr>\n",
              "      <th>149990</th>\n",
              "      <td>149991;0;0.055518163;46;0;0.609778598;4335;7;0...</td>\n",
              "    </tr>\n",
              "    <tr>\n",
              "      <th>149991</th>\n",
              "      <td>149992;0;0.1041117;59;0;0.477658234;10316;10;0...</td>\n",
              "    </tr>\n",
              "    <tr>\n",
              "      <th>149992</th>\n",
              "      <td>149993;0;0.871975945;50;0;4132;NA;11;0;1;0;3;1...</td>\n",
              "    </tr>\n",
              "    <tr>\n",
              "      <th>149993</th>\n",
              "      <td>149994;0;0.9999999;22;0;0;820;1;0;0;0;0;29/03/...</td>\n",
              "    </tr>\n",
              "    <tr>\n",
              "      <th>149994</th>\n",
              "      <td>149995;0;0.385742265;50;0;0.404292855;3400;7;0...</td>\n",
              "    </tr>\n",
              "    <tr>\n",
              "      <th>149995</th>\n",
              "      <td>149996;0;0.040673864;74;0;0.22513089;2100;4;0;...</td>\n",
              "    </tr>\n",
              "    <tr>\n",
              "      <th>149996</th>\n",
              "      <td>149997;0;0.299745148;44;0;0.71656222;5584;4;0;...</td>\n",
              "    </tr>\n",
              "    <tr>\n",
              "      <th>149997</th>\n",
              "      <td>149998;0;0.246043918;58;0;3870;NA;18;0;1;0;0;1...</td>\n",
              "    </tr>\n",
              "    <tr>\n",
              "      <th>149998</th>\n",
              "      <td>149999;0;0;30;0;0;5716;4;0;0;0;0;24/10/2014</td>\n",
              "    </tr>\n",
              "    <tr>\n",
              "      <th>149999</th>\n",
              "      <td>150000;0;0.850282951;64;0;0.249908077;8158;8;0...</td>\n",
              "    </tr>\n",
              "  </tbody>\n",
              "</table>\n",
              "<p>150000 rows × 1 columns</p>\n",
              "</div>"
            ],
            "text/plain": [
              "       Id;SeriousDlqin2yrs;RevolvingUtilizationOfUnsecuredLines;age;NumberOfTime30-59DaysPastDueNotWorse;DebtRatio;MonthlyIncome;NumberOfOpenCreditLinesAndLoans;NumberOfTimes90DaysLate;NumberRealEstateLoansOrLines;NumberOfTime60-89DaysPastDueNotWorse;NumberOfDependents;cohort_date\n",
              "0       1;1;0.766126609;45;2;0.802982129;9120;13;0;6;0...                                                                                                                                                                                                                                \n",
              "1       2;0;0.957151019;40;0;0.121876201;2600;4;0;0;0;...                                                                                                                                                                                                                                \n",
              "2       3;0;0.65818014;38;1;0.085113375;3042;2;1;0;0;0...                                                                                                                                                                                                                                \n",
              "3       4;0;0.233809776;30;0;0.036049682;3300;5;0;0;0;...                                                                                                                                                                                                                                \n",
              "4       5;0;0.9072394;49;1;0.024925695;63588;7;0;1;0;0...                                                                                                                                                                                                                                \n",
              "5       6;0;0.213178682;74;0;0.375606969;3500;3;0;1;0;...                                                                                                                                                                                                                                \n",
              "6       7;0;0.305682465;57;0;5710;NA;8;0;3;0;0;12/12/2015                                                                                                                                                                                                                                \n",
              "7       8;0;0.754463648;39;0;0.209940017;3500;8;0;0;0;...                                                                                                                                                                                                                                \n",
              "8        9;0;0.116950644;27;0;46;NA;2;0;0;0;NA;22/06/2014                                                                                                                                                                                                                                \n",
              "9       10;0;0.189169052;57;0;0.606290901;23684;9;0;4;...                                                                                                                                                                                                                                \n",
              "10      11;0;0.644225962;30;0;0.30947621;2500;5;0;0;0;...                                                                                                                                                                                                                                \n",
              "11      12;0;0.01879812;51;0;0.53152876;6501;7;0;2;0;2...                                                                                                                                                                                                                                \n",
              "12      13;0;0.010351857;46;0;0.298354075;12454;13;0;2...                                                                                                                                                                                                                                \n",
              "13      14;1;0.964672555;40;3;0.382964747;13700;9;3;1;...                                                                                                                                                                                                                                \n",
              "14       15;0;0.019656581;76;0;477;0;6;0;1;0;0;09/03/2016                                                                                                                                                                                                                                \n",
              "15      16;0;0.548458062;64;0;0.209891754;11362;7;0;1;...                                                                                                                                                                                                                                \n",
              "16      17;0;0.061086118;78;0;2058;NA;10;0;2;0;0;28/06...                                                                                                                                                                                                                                \n",
              "17      18;0;0.166284079;53;0;0.18827406;8800;7;0;0;0;...                                                                                                                                                                                                                                \n",
              "18      19;0;0.221812771;43;0;0.527887839;3280;7;0;1;0...                                                                                                                                                                                                                                \n",
              "19      20;0;0.602794411;25;0;0.065868263;333;2;0;0;0;...                                                                                                                                                                                                                                \n",
              "20      21;0;0.200923382;43;0;0.430046338;12300;10;0;2...                                                                                                                                                                                                                                \n",
              "21      22;1;0.025655677;38;0;0.475841386;3000;7;0;1;0...                                                                                                                                                                                                                                \n",
              "22      23;0;0.9999999;39;0;0.241103559;2500;4;0;0;0;0...                                                                                                                                                                                                                                \n",
              "23      24;0;0.075426584;32;0;0.085512189;7916;6;0;0;0...                                                                                                                                                                                                                                \n",
              "24      25;0;0.04656027;58;0;0.241621845;2416;9;0;1;0;...                                                                                                                                                                                                                                \n",
              "25      26;1;0.392248482;50;0;1.595253368;4676;14;0;3;...                                                                                                                                                                                                                                \n",
              "26      27;0;0.052436094;58;0;0.097672186;8333;22;0;1;...                                                                                                                                                                                                                                \n",
              "27      28;0;0.034421473;69;0;0.042383047;2500;17;0;0;...                                                                                                                                                                                                                                \n",
              "28      29;0;0.452515828;24;0;0.011761247;3400;1;0;0;0...                                                                                                                                                                                                                                \n",
              "29      30;0;0.392994586;58;2;0.436102527;5500;15;0;1;...                                                                                                                                                                                                                                \n",
              "...                                                   ...                                                                                                                                                                                                                                \n",
              "149970  149971;0;0.025449081;58;0;0.25385459;15500;7;0...                                                                                                                                                                                                                                \n",
              "149971  149972;0;0.058000533;83;0;0.013997201;5000;6;0...                                                                                                                                                                                                                                \n",
              "149972  149973;0;0.071273404;42;0;0.008638065;6945;3;0...                                                                                                                                                                                                                                \n",
              "149973  149974;0;1.026394721;44;0;0.494819124;5500;7;0...                                                                                                                                                                                                                                \n",
              "149974  149975;0;0.962721342;61;2;0.603479304;5000;11;...                                                                                                                                                                                                                                \n",
              "149975  149976;0;0.022088398;58;0;2716;NA;8;0;2;0;0;02...                                                                                                                                                                                                                                \n",
              "149976  149977;0;0.000627439;76;0;60;NA;5;0;0;0;0;02/0...                                                                                                                                                                                                                                \n",
              "149977  149978;0;0.236449864;29;0;349;NA;3;0;0;0;0;09/...                                                                                                                                                                                                                                \n",
              "149978  149979;0;0.917635296;52;2;0.259496202;2500;4;0...                                                                                                                                                                                                                                \n",
              "149979  149980;1;0.224710924;55;0;0.057234801;8700;7;0...                                                                                                                                                                                                                                \n",
              "149980  149981;0;0.067643815;64;0;0.254976475;5525;12;...                                                                                                                                                                                                                                \n",
              "149981  149982;0;0.810012257;43;0;0.121751825;6849;4;0...                                                                                                                                                                                                                                \n",
              "149982  149983;0;0.021046019;37;0;0.250271641;2760;8;0...                                                                                                                                                                                                                                \n",
              "149983  149984;0;0.002484811;82;0;0.00079984;5000;5;0;...                                                                                                                                                                                                                                \n",
              "149984  149985;0;0.037548123;84;0;25;NA;5;0;0;0;0;03/0...                                                                                                                                                                                                                                \n",
              "149985  149986;0;0.954409118;26;0;0.324961558;1950;4;0...                                                                                                                                                                                                                                \n",
              "149986  149987;0;0.168101659;49;0;0.080383923;5000;16;...                                                                                                                                                                                                                                \n",
              "149987  149988;0;0.9999999;28;0;0.055692308;3249;3;1;0...                                                                                                                                                                                                                                \n",
              "149988  149989;0;0.902050553;31;1;0.347924428;7515;10;...                                                                                                                                                                                                                                \n",
              "149989  149990;0;0.013355707;62;0;0.001407841;9233;4;0...                                                                                                                                                                                                                                \n",
              "149990  149991;0;0.055518163;46;0;0.609778598;4335;7;0...                                                                                                                                                                                                                                \n",
              "149991  149992;0;0.1041117;59;0;0.477658234;10316;10;0...                                                                                                                                                                                                                                \n",
              "149992  149993;0;0.871975945;50;0;4132;NA;11;0;1;0;3;1...                                                                                                                                                                                                                                \n",
              "149993  149994;0;0.9999999;22;0;0;820;1;0;0;0;0;29/03/...                                                                                                                                                                                                                                \n",
              "149994  149995;0;0.385742265;50;0;0.404292855;3400;7;0...                                                                                                                                                                                                                                \n",
              "149995  149996;0;0.040673864;74;0;0.22513089;2100;4;0;...                                                                                                                                                                                                                                \n",
              "149996  149997;0;0.299745148;44;0;0.71656222;5584;4;0;...                                                                                                                                                                                                                                \n",
              "149997  149998;0;0.246043918;58;0;3870;NA;18;0;1;0;0;1...                                                                                                                                                                                                                                \n",
              "149998        149999;0;0;30;0;0;5716;4;0;0;0;0;24/10/2014                                                                                                                                                                                                                                \n",
              "149999  150000;0;0.850282951;64;0;0.249908077;8158;8;0...                                                                                                                                                                                                                                \n",
              "\n",
              "[150000 rows x 1 columns]"
            ]
          },
          "metadata": {
            "tags": []
          },
          "execution_count": 21
        }
      ]
    },
    {
      "cell_type": "code",
      "metadata": {
        "id": "e2I-eMRXrGdM",
        "colab_type": "code",
        "colab": {
          "base_uri": "https://localhost:8080/",
          "height": 217
        },
        "outputId": "99822e7c-7852-47ef-ef37-eaad23656bf8"
      },
      "source": [
        "!wget https://github.com/vincentarelbundock/Rdatasets/blob/master/csv/datasets/Titanic.csv"
      ],
      "execution_count": 22,
      "outputs": [
        {
          "output_type": "stream",
          "text": [
            "--2019-06-30 23:17:43--  https://github.com/vincentarelbundock/Rdatasets/blob/master/csv/datasets/Titanic.csv\n",
            "Resolving github.com (github.com)... 192.30.253.112\n",
            "Connecting to github.com (github.com)|192.30.253.112|:443... connected.\n",
            "HTTP request sent, awaiting response... 200 OK\n",
            "Length: unspecified [text/html]\n",
            "Saving to: ‘Titanic.csv’\n",
            "\n",
            "\rTitanic.csv             [<=>                 ]       0  --.-KB/s               \rTitanic.csv             [ <=>                ]  76.15K  --.-KB/s    in 0.05s   \n",
            "\n",
            "2019-06-30 23:17:43 (1.46 MB/s) - ‘Titanic.csv’ saved [77982]\n",
            "\n"
          ],
          "name": "stdout"
        }
      ]
    },
    {
      "cell_type": "code",
      "metadata": {
        "id": "32X0pjOqsBXk",
        "colab_type": "code",
        "colab": {}
      },
      "source": [
        "from google.colab import files\n",
        "import pandas as pd"
      ],
      "execution_count": 0,
      "outputs": []
    },
    {
      "cell_type": "code",
      "metadata": {
        "id": "DxaVlE_ysIYc",
        "colab_type": "code",
        "colab": {
          "base_uri": "https://localhost:8080/",
          "height": 217
        },
        "outputId": "93298471-9610-4252-acbf-2fa4b5f20c38"
      },
      "source": [
        "!wget https://raw.githubusercontent.com/vincentarelbundock/Rdatasets/master/csv/datasets/Titanic.csv"
      ],
      "execution_count": 31,
      "outputs": [
        {
          "output_type": "stream",
          "text": [
            "--2019-06-30 23:23:52--  https://raw.githubusercontent.com/vincentarelbundock/Rdatasets/master/csv/datasets/Titanic.csv\n",
            "Resolving raw.githubusercontent.com (raw.githubusercontent.com)... 151.101.0.133, 151.101.64.133, 151.101.128.133, ...\n",
            "Connecting to raw.githubusercontent.com (raw.githubusercontent.com)|151.101.0.133|:443... connected.\n",
            "HTTP request sent, awaiting response... 200 OK\n",
            "Length: 1170 (1.1K) [text/plain]\n",
            "Saving to: ‘Titanic.csv.1’\n",
            "\n",
            "\rTitanic.csv.1         0%[                    ]       0  --.-KB/s               \rTitanic.csv.1       100%[===================>]   1.14K  --.-KB/s    in 0s      \n",
            "\n",
            "2019-06-30 23:23:52 (229 MB/s) - ‘Titanic.csv.1’ saved [1170/1170]\n",
            "\n"
          ],
          "name": "stdout"
        }
      ]
    },
    {
      "cell_type": "code",
      "metadata": {
        "id": "wg3aU4z-tbYs",
        "colab_type": "code",
        "colab": {
          "base_uri": "https://localhost:8080/",
          "height": 1000
        },
        "outputId": "da4d5efd-b7d2-4a04-886d-f6f2dd625383"
      },
      "source": [
        "pd.read_csv('Titanic.csv.1')"
      ],
      "execution_count": 34,
      "outputs": [
        {
          "output_type": "execute_result",
          "data": {
            "text/html": [
              "<div>\n",
              "<style scoped>\n",
              "    .dataframe tbody tr th:only-of-type {\n",
              "        vertical-align: middle;\n",
              "    }\n",
              "\n",
              "    .dataframe tbody tr th {\n",
              "        vertical-align: top;\n",
              "    }\n",
              "\n",
              "    .dataframe thead th {\n",
              "        text-align: right;\n",
              "    }\n",
              "</style>\n",
              "<table border=\"1\" class=\"dataframe\">\n",
              "  <thead>\n",
              "    <tr style=\"text-align: right;\">\n",
              "      <th></th>\n",
              "      <th>Unnamed: 0</th>\n",
              "      <th>Class</th>\n",
              "      <th>Sex</th>\n",
              "      <th>Age</th>\n",
              "      <th>Survived</th>\n",
              "      <th>Freq</th>\n",
              "    </tr>\n",
              "  </thead>\n",
              "  <tbody>\n",
              "    <tr>\n",
              "      <th>0</th>\n",
              "      <td>1</td>\n",
              "      <td>1st</td>\n",
              "      <td>Male</td>\n",
              "      <td>Child</td>\n",
              "      <td>No</td>\n",
              "      <td>0</td>\n",
              "    </tr>\n",
              "    <tr>\n",
              "      <th>1</th>\n",
              "      <td>2</td>\n",
              "      <td>2nd</td>\n",
              "      <td>Male</td>\n",
              "      <td>Child</td>\n",
              "      <td>No</td>\n",
              "      <td>0</td>\n",
              "    </tr>\n",
              "    <tr>\n",
              "      <th>2</th>\n",
              "      <td>3</td>\n",
              "      <td>3rd</td>\n",
              "      <td>Male</td>\n",
              "      <td>Child</td>\n",
              "      <td>No</td>\n",
              "      <td>35</td>\n",
              "    </tr>\n",
              "    <tr>\n",
              "      <th>3</th>\n",
              "      <td>4</td>\n",
              "      <td>Crew</td>\n",
              "      <td>Male</td>\n",
              "      <td>Child</td>\n",
              "      <td>No</td>\n",
              "      <td>0</td>\n",
              "    </tr>\n",
              "    <tr>\n",
              "      <th>4</th>\n",
              "      <td>5</td>\n",
              "      <td>1st</td>\n",
              "      <td>Female</td>\n",
              "      <td>Child</td>\n",
              "      <td>No</td>\n",
              "      <td>0</td>\n",
              "    </tr>\n",
              "    <tr>\n",
              "      <th>5</th>\n",
              "      <td>6</td>\n",
              "      <td>2nd</td>\n",
              "      <td>Female</td>\n",
              "      <td>Child</td>\n",
              "      <td>No</td>\n",
              "      <td>0</td>\n",
              "    </tr>\n",
              "    <tr>\n",
              "      <th>6</th>\n",
              "      <td>7</td>\n",
              "      <td>3rd</td>\n",
              "      <td>Female</td>\n",
              "      <td>Child</td>\n",
              "      <td>No</td>\n",
              "      <td>17</td>\n",
              "    </tr>\n",
              "    <tr>\n",
              "      <th>7</th>\n",
              "      <td>8</td>\n",
              "      <td>Crew</td>\n",
              "      <td>Female</td>\n",
              "      <td>Child</td>\n",
              "      <td>No</td>\n",
              "      <td>0</td>\n",
              "    </tr>\n",
              "    <tr>\n",
              "      <th>8</th>\n",
              "      <td>9</td>\n",
              "      <td>1st</td>\n",
              "      <td>Male</td>\n",
              "      <td>Adult</td>\n",
              "      <td>No</td>\n",
              "      <td>118</td>\n",
              "    </tr>\n",
              "    <tr>\n",
              "      <th>9</th>\n",
              "      <td>10</td>\n",
              "      <td>2nd</td>\n",
              "      <td>Male</td>\n",
              "      <td>Adult</td>\n",
              "      <td>No</td>\n",
              "      <td>154</td>\n",
              "    </tr>\n",
              "    <tr>\n",
              "      <th>10</th>\n",
              "      <td>11</td>\n",
              "      <td>3rd</td>\n",
              "      <td>Male</td>\n",
              "      <td>Adult</td>\n",
              "      <td>No</td>\n",
              "      <td>387</td>\n",
              "    </tr>\n",
              "    <tr>\n",
              "      <th>11</th>\n",
              "      <td>12</td>\n",
              "      <td>Crew</td>\n",
              "      <td>Male</td>\n",
              "      <td>Adult</td>\n",
              "      <td>No</td>\n",
              "      <td>670</td>\n",
              "    </tr>\n",
              "    <tr>\n",
              "      <th>12</th>\n",
              "      <td>13</td>\n",
              "      <td>1st</td>\n",
              "      <td>Female</td>\n",
              "      <td>Adult</td>\n",
              "      <td>No</td>\n",
              "      <td>4</td>\n",
              "    </tr>\n",
              "    <tr>\n",
              "      <th>13</th>\n",
              "      <td>14</td>\n",
              "      <td>2nd</td>\n",
              "      <td>Female</td>\n",
              "      <td>Adult</td>\n",
              "      <td>No</td>\n",
              "      <td>13</td>\n",
              "    </tr>\n",
              "    <tr>\n",
              "      <th>14</th>\n",
              "      <td>15</td>\n",
              "      <td>3rd</td>\n",
              "      <td>Female</td>\n",
              "      <td>Adult</td>\n",
              "      <td>No</td>\n",
              "      <td>89</td>\n",
              "    </tr>\n",
              "    <tr>\n",
              "      <th>15</th>\n",
              "      <td>16</td>\n",
              "      <td>Crew</td>\n",
              "      <td>Female</td>\n",
              "      <td>Adult</td>\n",
              "      <td>No</td>\n",
              "      <td>3</td>\n",
              "    </tr>\n",
              "    <tr>\n",
              "      <th>16</th>\n",
              "      <td>17</td>\n",
              "      <td>1st</td>\n",
              "      <td>Male</td>\n",
              "      <td>Child</td>\n",
              "      <td>Yes</td>\n",
              "      <td>5</td>\n",
              "    </tr>\n",
              "    <tr>\n",
              "      <th>17</th>\n",
              "      <td>18</td>\n",
              "      <td>2nd</td>\n",
              "      <td>Male</td>\n",
              "      <td>Child</td>\n",
              "      <td>Yes</td>\n",
              "      <td>11</td>\n",
              "    </tr>\n",
              "    <tr>\n",
              "      <th>18</th>\n",
              "      <td>19</td>\n",
              "      <td>3rd</td>\n",
              "      <td>Male</td>\n",
              "      <td>Child</td>\n",
              "      <td>Yes</td>\n",
              "      <td>13</td>\n",
              "    </tr>\n",
              "    <tr>\n",
              "      <th>19</th>\n",
              "      <td>20</td>\n",
              "      <td>Crew</td>\n",
              "      <td>Male</td>\n",
              "      <td>Child</td>\n",
              "      <td>Yes</td>\n",
              "      <td>0</td>\n",
              "    </tr>\n",
              "    <tr>\n",
              "      <th>20</th>\n",
              "      <td>21</td>\n",
              "      <td>1st</td>\n",
              "      <td>Female</td>\n",
              "      <td>Child</td>\n",
              "      <td>Yes</td>\n",
              "      <td>1</td>\n",
              "    </tr>\n",
              "    <tr>\n",
              "      <th>21</th>\n",
              "      <td>22</td>\n",
              "      <td>2nd</td>\n",
              "      <td>Female</td>\n",
              "      <td>Child</td>\n",
              "      <td>Yes</td>\n",
              "      <td>13</td>\n",
              "    </tr>\n",
              "    <tr>\n",
              "      <th>22</th>\n",
              "      <td>23</td>\n",
              "      <td>3rd</td>\n",
              "      <td>Female</td>\n",
              "      <td>Child</td>\n",
              "      <td>Yes</td>\n",
              "      <td>14</td>\n",
              "    </tr>\n",
              "    <tr>\n",
              "      <th>23</th>\n",
              "      <td>24</td>\n",
              "      <td>Crew</td>\n",
              "      <td>Female</td>\n",
              "      <td>Child</td>\n",
              "      <td>Yes</td>\n",
              "      <td>0</td>\n",
              "    </tr>\n",
              "    <tr>\n",
              "      <th>24</th>\n",
              "      <td>25</td>\n",
              "      <td>1st</td>\n",
              "      <td>Male</td>\n",
              "      <td>Adult</td>\n",
              "      <td>Yes</td>\n",
              "      <td>57</td>\n",
              "    </tr>\n",
              "    <tr>\n",
              "      <th>25</th>\n",
              "      <td>26</td>\n",
              "      <td>2nd</td>\n",
              "      <td>Male</td>\n",
              "      <td>Adult</td>\n",
              "      <td>Yes</td>\n",
              "      <td>14</td>\n",
              "    </tr>\n",
              "    <tr>\n",
              "      <th>26</th>\n",
              "      <td>27</td>\n",
              "      <td>3rd</td>\n",
              "      <td>Male</td>\n",
              "      <td>Adult</td>\n",
              "      <td>Yes</td>\n",
              "      <td>75</td>\n",
              "    </tr>\n",
              "    <tr>\n",
              "      <th>27</th>\n",
              "      <td>28</td>\n",
              "      <td>Crew</td>\n",
              "      <td>Male</td>\n",
              "      <td>Adult</td>\n",
              "      <td>Yes</td>\n",
              "      <td>192</td>\n",
              "    </tr>\n",
              "    <tr>\n",
              "      <th>28</th>\n",
              "      <td>29</td>\n",
              "      <td>1st</td>\n",
              "      <td>Female</td>\n",
              "      <td>Adult</td>\n",
              "      <td>Yes</td>\n",
              "      <td>140</td>\n",
              "    </tr>\n",
              "    <tr>\n",
              "      <th>29</th>\n",
              "      <td>30</td>\n",
              "      <td>2nd</td>\n",
              "      <td>Female</td>\n",
              "      <td>Adult</td>\n",
              "      <td>Yes</td>\n",
              "      <td>80</td>\n",
              "    </tr>\n",
              "    <tr>\n",
              "      <th>30</th>\n",
              "      <td>31</td>\n",
              "      <td>3rd</td>\n",
              "      <td>Female</td>\n",
              "      <td>Adult</td>\n",
              "      <td>Yes</td>\n",
              "      <td>76</td>\n",
              "    </tr>\n",
              "    <tr>\n",
              "      <th>31</th>\n",
              "      <td>32</td>\n",
              "      <td>Crew</td>\n",
              "      <td>Female</td>\n",
              "      <td>Adult</td>\n",
              "      <td>Yes</td>\n",
              "      <td>20</td>\n",
              "    </tr>\n",
              "  </tbody>\n",
              "</table>\n",
              "</div>"
            ],
            "text/plain": [
              "    Unnamed: 0 Class     Sex    Age Survived  Freq\n",
              "0            1   1st    Male  Child       No     0\n",
              "1            2   2nd    Male  Child       No     0\n",
              "2            3   3rd    Male  Child       No    35\n",
              "3            4  Crew    Male  Child       No     0\n",
              "4            5   1st  Female  Child       No     0\n",
              "5            6   2nd  Female  Child       No     0\n",
              "6            7   3rd  Female  Child       No    17\n",
              "7            8  Crew  Female  Child       No     0\n",
              "8            9   1st    Male  Adult       No   118\n",
              "9           10   2nd    Male  Adult       No   154\n",
              "10          11   3rd    Male  Adult       No   387\n",
              "11          12  Crew    Male  Adult       No   670\n",
              "12          13   1st  Female  Adult       No     4\n",
              "13          14   2nd  Female  Adult       No    13\n",
              "14          15   3rd  Female  Adult       No    89\n",
              "15          16  Crew  Female  Adult       No     3\n",
              "16          17   1st    Male  Child      Yes     5\n",
              "17          18   2nd    Male  Child      Yes    11\n",
              "18          19   3rd    Male  Child      Yes    13\n",
              "19          20  Crew    Male  Child      Yes     0\n",
              "20          21   1st  Female  Child      Yes     1\n",
              "21          22   2nd  Female  Child      Yes    13\n",
              "22          23   3rd  Female  Child      Yes    14\n",
              "23          24  Crew  Female  Child      Yes     0\n",
              "24          25   1st    Male  Adult      Yes    57\n",
              "25          26   2nd    Male  Adult      Yes    14\n",
              "26          27   3rd    Male  Adult      Yes    75\n",
              "27          28  Crew    Male  Adult      Yes   192\n",
              "28          29   1st  Female  Adult      Yes   140\n",
              "29          30   2nd  Female  Adult      Yes    80\n",
              "30          31   3rd  Female  Adult      Yes    76\n",
              "31          32  Crew  Female  Adult      Yes    20"
            ]
          },
          "metadata": {
            "tags": []
          },
          "execution_count": 34
        }
      ]
    },
    {
      "cell_type": "code",
      "metadata": {
        "id": "gjXPNEvatjhS",
        "colab_type": "code",
        "colab": {}
      },
      "source": [
        "import tensorflow as tf"
      ],
      "execution_count": 0,
      "outputs": []
    },
    {
      "cell_type": "code",
      "metadata": {
        "id": "9FiD3FktuC0E",
        "colab_type": "code",
        "colab": {}
      },
      "source": [
        ""
      ],
      "execution_count": 0,
      "outputs": []
    }
  ]
}