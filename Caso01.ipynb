{
  "nbformat": 4,
  "nbformat_minor": 0,
  "metadata": {
    "colab": {
      "name": "Caso01.ipynb",
      "version": "0.3.2",
      "provenance": [],
      "collapsed_sections": [],
      "include_colab_link": true
    },
    "kernelspec": {
      "display_name": "Python 3",
      "language": "python",
      "name": "python3"
    }
  },
  "cells": [
    {
      "cell_type": "markdown",
      "metadata": {
        "id": "view-in-github",
        "colab_type": "text"
      },
      "source": [
        "<a href=\"https://colab.research.google.com/github/NyxJuan/Python/blob/master/Caso01.ipynb\" target=\"_parent\"><img src=\"https://colab.research.google.com/assets/colab-badge.svg\" alt=\"Open In Colab\"/></a>"
      ]
    },
    {
      "cell_type": "markdown",
      "metadata": {
        "id": "AWjjTd-wSYoP",
        "colab_type": "text"
      },
      "source": [
        "## Laboratorio N° 01: Crear un reporte asociado a los datos de negocio\n",
        "\n",
        "Basado en el conjunto de datos \"credit data.csv\"\n",
        "\n",
        "Crear un reporte con la siguiente descripción:\n",
        "\n",
        "- Periodo de analisis: de 2014 a 2015\n",
        "- Unidad de Tiempo: Trimestral (y total anual)\n",
        "- Grupos de analisis: Por ingreso mensual con grupos. \n",
        "    * menos de 2.500\n",
        "    * 2.500 a 5.000\n",
        "    * 5.000 a 10.000\n",
        "    * mas de 10.000\n",
        "- KPIs:\n",
        "    - Número de Créditos\n",
        "    - delincuencia promedio (porcentaje de clientes en morosidad de 90dpd)\n",
        "    - ingreso mensual promedio\n",
        "- Estructura de tabla:\n",
        "    * cuartos en columnas\n",
        "    * Grupos y KPIs en filas.\n",
        "- Dibuja una gráfica con:\n",
        "    - Barras apiladas para el número de créditos\n",
        "    - Líneas para la morosidad media\n",
        "\n",
        "Adicional, Analisis de Data Exploratorio:\n",
        "\n",
        "- Crear un par gráfico de parejas para todas las variables\n",
        "- Crear un gráfico con Ingresos VS Edad en el medio, más distribuciones marginales    "
      ]
    },
    {
      "cell_type": "markdown",
      "metadata": {
        "id": "-bpktIZ5SYoR",
        "colab_type": "text"
      },
      "source": [
        "### 1. Import the data\n",
        "\n",
        "While importing, be sure to take care of:  \n",
        "    - variable format\n",
        "    - missing values:\n",
        "        * missing in MonthlyIncome must be filled with the median\n",
        "        * missing in NumberOfDependents must be filled with 0\n",
        "    - dates\n",
        "    "
      ]
    },
    {
      "cell_type": "code",
      "metadata": {
        "id": "aZaA53HOSYoT",
        "colab_type": "code",
        "colab": {}
      },
      "source": [
        "# import libraries\n",
        "\n",
        "import pandas as pd\n",
        "import numpy as np\n",
        "import datetime as dt"
      ],
      "execution_count": 0,
      "outputs": []
    },
    {
      "cell_type": "code",
      "metadata": {
        "id": "g7ssyKedSYoY",
        "colab_type": "code",
        "outputId": "56f37818-735f-40ff-ff3c-ef1362203529",
        "colab": {
          "base_uri": "https://localhost:8080/",
          "height": 35
        }
      },
      "source": [
        "# import the data\n",
        "\n",
        "base = pd.read_csv('./credit data.csv')\n",
        "\n",
        "# check types\n",
        "\n",
        "base.shape\n"
      ],
      "execution_count": 16,
      "outputs": [
        {
          "output_type": "execute_result",
          "data": {
            "text/plain": [
              "(150000, 1)"
            ]
          },
          "metadata": {
            "tags": []
          },
          "execution_count": 16
        }
      ]
    },
    {
      "cell_type": "code",
      "metadata": {
        "id": "G_XYB7zGSYod",
        "colab_type": "code",
        "colab": {
          "base_uri": "https://localhost:8080/",
          "height": 226
        },
        "outputId": "a57fffc8-86b5-4376-b69f-55e5cf8cfc2b"
      },
      "source": [
        "# check the dates are well loaded\n",
        "\n",
        "base.head()\n"
      ],
      "execution_count": 17,
      "outputs": [
        {
          "output_type": "execute_result",
          "data": {
            "text/html": [
              "<div>\n",
              "<style scoped>\n",
              "    .dataframe tbody tr th:only-of-type {\n",
              "        vertical-align: middle;\n",
              "    }\n",
              "\n",
              "    .dataframe tbody tr th {\n",
              "        vertical-align: top;\n",
              "    }\n",
              "\n",
              "    .dataframe thead th {\n",
              "        text-align: right;\n",
              "    }\n",
              "</style>\n",
              "<table border=\"1\" class=\"dataframe\">\n",
              "  <thead>\n",
              "    <tr style=\"text-align: right;\">\n",
              "      <th></th>\n",
              "      <th>Id;SeriousDlqin2yrs;RevolvingUtilizationOfUnsecuredLines;age;NumberOfTime30-59DaysPastDueNotWorse;DebtRatio;MonthlyIncome;NumberOfOpenCreditLinesAndLoans;NumberOfTimes90DaysLate;NumberRealEstateLoansOrLines;NumberOfTime60-89DaysPastDueNotWorse;NumberOfDependents;cohort_date</th>\n",
              "    </tr>\n",
              "  </thead>\n",
              "  <tbody>\n",
              "    <tr>\n",
              "      <th>0</th>\n",
              "      <td>1;1;0.766126609;45;2;0.802982129;9120;13;0;6;0...</td>\n",
              "    </tr>\n",
              "    <tr>\n",
              "      <th>1</th>\n",
              "      <td>2;0;0.957151019;40;0;0.121876201;2600;4;0;0;0;...</td>\n",
              "    </tr>\n",
              "    <tr>\n",
              "      <th>2</th>\n",
              "      <td>3;0;0.65818014;38;1;0.085113375;3042;2;1;0;0;0...</td>\n",
              "    </tr>\n",
              "    <tr>\n",
              "      <th>3</th>\n",
              "      <td>4;0;0.233809776;30;0;0.036049682;3300;5;0;0;0;...</td>\n",
              "    </tr>\n",
              "    <tr>\n",
              "      <th>4</th>\n",
              "      <td>5;0;0.9072394;49;1;0.024925695;63588;7;0;1;0;0...</td>\n",
              "    </tr>\n",
              "  </tbody>\n",
              "</table>\n",
              "</div>"
            ],
            "text/plain": [
              "  Id;SeriousDlqin2yrs;RevolvingUtilizationOfUnsecuredLines;age;NumberOfTime30-59DaysPastDueNotWorse;DebtRatio;MonthlyIncome;NumberOfOpenCreditLinesAndLoans;NumberOfTimes90DaysLate;NumberRealEstateLoansOrLines;NumberOfTime60-89DaysPastDueNotWorse;NumberOfDependents;cohort_date\n",
              "0  1;1;0.766126609;45;2;0.802982129;9120;13;0;6;0...                                                                                                                                                                                                                                \n",
              "1  2;0;0.957151019;40;0;0.121876201;2600;4;0;0;0;...                                                                                                                                                                                                                                \n",
              "2  3;0;0.65818014;38;1;0.085113375;3042;2;1;0;0;0...                                                                                                                                                                                                                                \n",
              "3  4;0;0.233809776;30;0;0.036049682;3300;5;0;0;0;...                                                                                                                                                                                                                                \n",
              "4  5;0;0.9072394;49;1;0.024925695;63588;7;0;1;0;0...                                                                                                                                                                                                                                "
            ]
          },
          "metadata": {
            "tags": []
          },
          "execution_count": 17
        }
      ]
    },
    {
      "cell_type": "markdown",
      "metadata": {
        "id": "eMsz7iikSYoj",
        "colab_type": "text"
      },
      "source": [
        "### 2. Missing values inputation"
      ]
    },
    {
      "cell_type": "code",
      "metadata": {
        "id": "9I4wDGaMXDC5",
        "colab_type": "code",
        "colab": {
          "base_uri": "https://localhost:8080/",
          "height": 35
        },
        "outputId": "baaa717b-e003-483d-ccb7-b0f6ccaf2257"
      },
      "source": [
        "previsores = base.iloc[:, 1:4].values\n",
        "previsores"
      ],
      "execution_count": 19,
      "outputs": [
        {
          "output_type": "execute_result",
          "data": {
            "text/plain": [
              "array([], shape=(150000, 0), dtype=object)"
            ]
          },
          "metadata": {
            "tags": []
          },
          "execution_count": 19
        }
      ]
    },
    {
      "cell_type": "code",
      "metadata": {
        "id": "qSfF6-mGSYoq",
        "colab_type": "code",
        "outputId": "146262b7-9333-4f39-b9dd-84005d613879",
        "colab": {}
      },
      "source": [
        "# missing imputation\n",
        "\n",
        "print(data.isnull().sum())\n",
        "    \n",
        "\n",
        "# check missings\n",
        "\n",
        "print(data_test.isnull().sum())\n",
        "\n"
      ],
      "execution_count": 0,
      "outputs": [
        {
          "output_type": "execute_result",
          "data": {
            "text/plain": [
              "Id                                      0\n",
              "SeriousDlqin2yrs                        0\n",
              "RevolvingUtilizationOfUnsecuredLines    0\n",
              "age                                     0\n",
              "NumberOfTime30-59DaysPastDueNotWorse    0\n",
              "DebtRatio                               0\n",
              "MonthlyIncome                           0\n",
              "NumberOfOpenCreditLinesAndLoans         0\n",
              "NumberOfTimes90DaysLate                 0\n",
              "NumberRealEstateLoansOrLines            0\n",
              "NumberOfTime60-89DaysPastDueNotWorse    0\n",
              "NumberOfDependents                      0\n",
              "cohort_date                             0\n",
              "dtype: int64"
            ]
          },
          "metadata": {
            "tags": []
          },
          "execution_count": 105
        }
      ]
    },
    {
      "cell_type": "markdown",
      "metadata": {
        "id": "NF2E_WE4SYow",
        "colab_type": "text"
      },
      "source": [
        "### 3. Select the data sample for the report"
      ]
    },
    {
      "cell_type": "code",
      "metadata": {
        "id": "akwhSkT5SYoz",
        "colab_type": "code",
        "outputId": "8216ee91-117f-4487-a0ab-dbc9795f45ce",
        "colab": {}
      },
      "source": [
        "# filter by date\n",
        "\n",
        "df = NYC\n",
        "print(df.RPT_DT.head(3))\n",
        "#create the year column\n",
        "df[\"year\"] = [date[-4:] for date in df.RPT_DT]\n",
        "#filter the year by only selecting 2014 and 2015\n",
        "df = df[(df[\"year\"] == \"2014\") | (df[\"year\"] == \"2015\")]\n",
        "\n"
      ],
      "execution_count": 0,
      "outputs": [
        {
          "output_type": "execute_result",
          "data": {
            "text/plain": [
              "Timestamp('2015-12-31 00:00:00')"
            ]
          },
          "metadata": {
            "tags": []
          },
          "execution_count": 106
        }
      ]
    },
    {
      "cell_type": "markdown",
      "metadata": {
        "id": "zwudfk3ZSYo6",
        "colab_type": "text"
      },
      "source": [
        "### 4. Create intermediate variables\n",
        "\n",
        "Hints: \n",
        "- use *.dt.year and *.dt.quarter for date columns and astype() to convert columns\n",
        "- use pd.cut() method for binning a variable"
      ]
    },
    {
      "cell_type": "code",
      "metadata": {
        "id": "G54pTk_GSYo9",
        "colab_type": "code",
        "outputId": "e21e2604-4bed-48e0-b2ad-60d618f57d8d",
        "colab": {}
      },
      "source": [
        "# create quarter variable\n",
        "\n",
        "hours = [i for i in range(24)]\n",
        "\n",
        "df_hours = pd.to_datetime(df.CMPLNT_FR_TM).dt.hour\n",
        "df_hours = pd.DataFrame({'hour':df_hours})\n",
        "\n",
        "\n",
        "sns.countplot(y='hour', data=df_hours, palette = \"CMRmap\", order=hours)\n",
        "plt.title(' ¿A qué hora del día ocurren los crímenes? (2014-2015)')\n",
        "\n",
        "\n",
        "\n",
        "# create income_groups variable\n",
        "\n",
        "\n"
      ],
      "execution_count": 0,
      "outputs": [
        {
          "output_type": "stream",
          "text": [
            "/Applications/analytics/anaconda3/lib/python3.6/site-packages/ipykernel_launcher.py:2: SettingWithCopyWarning: \n",
            "A value is trying to be set on a copy of a slice from a DataFrame.\n",
            "Try using .loc[row_indexer,col_indexer] = value instead\n",
            "\n",
            "See the caveats in the documentation: http://pandas.pydata.org/pandas-docs/stable/indexing.html#indexing-view-versus-copy\n",
            "  \n",
            "/Applications/analytics/anaconda3/lib/python3.6/site-packages/ipykernel_launcher.py:8: SettingWithCopyWarning: \n",
            "A value is trying to be set on a copy of a slice from a DataFrame.\n",
            "Try using .loc[row_indexer,col_indexer] = value instead\n",
            "\n",
            "See the caveats in the documentation: http://pandas.pydata.org/pandas-docs/stable/indexing.html#indexing-view-versus-copy\n",
            "  \n"
          ],
          "name": "stderr"
        }
      ]
    },
    {
      "cell_type": "code",
      "metadata": {
        "id": "W5ZqqiAZSYpF",
        "colab_type": "code",
        "outputId": "dc2726c7-405a-469a-b28b-e6643604cd86",
        "colab": {}
      },
      "source": [
        "# check\n",
        "\n",
        "data.describe()\n"
      ],
      "execution_count": 0,
      "outputs": [
        {
          "output_type": "execute_result",
          "data": {
            "text/html": [
              "<div>\n",
              "<style>\n",
              "    .dataframe thead tr:only-child th {\n",
              "        text-align: right;\n",
              "    }\n",
              "\n",
              "    .dataframe thead th {\n",
              "        text-align: left;\n",
              "    }\n",
              "\n",
              "    .dataframe tbody tr th {\n",
              "        vertical-align: top;\n",
              "    }\n",
              "</style>\n",
              "<table border=\"1\" class=\"dataframe\">\n",
              "  <thead>\n",
              "    <tr style=\"text-align: right;\">\n",
              "      <th></th>\n",
              "      <th>Id</th>\n",
              "      <th>SeriousDlqin2yrs</th>\n",
              "      <th>RevolvingUtilizationOfUnsecuredLines</th>\n",
              "      <th>age</th>\n",
              "      <th>NumberOfTime30-59DaysPastDueNotWorse</th>\n",
              "      <th>DebtRatio</th>\n",
              "      <th>MonthlyIncome</th>\n",
              "      <th>NumberOfOpenCreditLinesAndLoans</th>\n",
              "      <th>NumberOfTimes90DaysLate</th>\n",
              "      <th>NumberRealEstateLoansOrLines</th>\n",
              "      <th>NumberOfTime60-89DaysPastDueNotWorse</th>\n",
              "      <th>NumberOfDependents</th>\n",
              "      <th>cohort_date</th>\n",
              "      <th>Quarter</th>\n",
              "      <th>Income Group</th>\n",
              "    </tr>\n",
              "  </thead>\n",
              "  <tbody>\n",
              "    <tr>\n",
              "      <th>0</th>\n",
              "      <td>1</td>\n",
              "      <td>1</td>\n",
              "      <td>0.766127</td>\n",
              "      <td>45</td>\n",
              "      <td>2</td>\n",
              "      <td>0.802982</td>\n",
              "      <td>9120.0</td>\n",
              "      <td>13</td>\n",
              "      <td>0</td>\n",
              "      <td>6</td>\n",
              "      <td>0</td>\n",
              "      <td>2.0</td>\n",
              "      <td>2015-09-17</td>\n",
              "      <td>2015-3</td>\n",
              "      <td>Group 3</td>\n",
              "    </tr>\n",
              "    <tr>\n",
              "      <th>4</th>\n",
              "      <td>5</td>\n",
              "      <td>0</td>\n",
              "      <td>0.907239</td>\n",
              "      <td>49</td>\n",
              "      <td>1</td>\n",
              "      <td>0.024926</td>\n",
              "      <td>63588.0</td>\n",
              "      <td>7</td>\n",
              "      <td>0</td>\n",
              "      <td>1</td>\n",
              "      <td>0</td>\n",
              "      <td>0.0</td>\n",
              "      <td>2015-11-18</td>\n",
              "      <td>2015-4</td>\n",
              "      <td>Group 4</td>\n",
              "    </tr>\n",
              "    <tr>\n",
              "      <th>6</th>\n",
              "      <td>7</td>\n",
              "      <td>0</td>\n",
              "      <td>0.305682</td>\n",
              "      <td>57</td>\n",
              "      <td>0</td>\n",
              "      <td>5710.000000</td>\n",
              "      <td>5400.0</td>\n",
              "      <td>8</td>\n",
              "      <td>0</td>\n",
              "      <td>3</td>\n",
              "      <td>0</td>\n",
              "      <td>0.0</td>\n",
              "      <td>2015-12-12</td>\n",
              "      <td>2015-4</td>\n",
              "      <td>Group 3</td>\n",
              "    </tr>\n",
              "    <tr>\n",
              "      <th>8</th>\n",
              "      <td>9</td>\n",
              "      <td>0</td>\n",
              "      <td>0.116951</td>\n",
              "      <td>27</td>\n",
              "      <td>0</td>\n",
              "      <td>46.000000</td>\n",
              "      <td>5400.0</td>\n",
              "      <td>2</td>\n",
              "      <td>0</td>\n",
              "      <td>0</td>\n",
              "      <td>0</td>\n",
              "      <td>0.0</td>\n",
              "      <td>2014-06-22</td>\n",
              "      <td>2014-2</td>\n",
              "      <td>Group 3</td>\n",
              "    </tr>\n",
              "    <tr>\n",
              "      <th>9</th>\n",
              "      <td>10</td>\n",
              "      <td>0</td>\n",
              "      <td>0.189169</td>\n",
              "      <td>57</td>\n",
              "      <td>0</td>\n",
              "      <td>0.606291</td>\n",
              "      <td>23684.0</td>\n",
              "      <td>9</td>\n",
              "      <td>0</td>\n",
              "      <td>4</td>\n",
              "      <td>0</td>\n",
              "      <td>2.0</td>\n",
              "      <td>2014-03-07</td>\n",
              "      <td>2014-1</td>\n",
              "      <td>Group 4</td>\n",
              "    </tr>\n",
              "  </tbody>\n",
              "</table>\n",
              "</div>"
            ],
            "text/plain": [
              "   Id  SeriousDlqin2yrs  RevolvingUtilizationOfUnsecuredLines  age  \\\n",
              "0   1                 1                              0.766127   45   \n",
              "4   5                 0                              0.907239   49   \n",
              "6   7                 0                              0.305682   57   \n",
              "8   9                 0                              0.116951   27   \n",
              "9  10                 0                              0.189169   57   \n",
              "\n",
              "   NumberOfTime30-59DaysPastDueNotWorse    DebtRatio  MonthlyIncome  \\\n",
              "0                                     2     0.802982         9120.0   \n",
              "4                                     1     0.024926        63588.0   \n",
              "6                                     0  5710.000000         5400.0   \n",
              "8                                     0    46.000000         5400.0   \n",
              "9                                     0     0.606291        23684.0   \n",
              "\n",
              "   NumberOfOpenCreditLinesAndLoans  NumberOfTimes90DaysLate  \\\n",
              "0                               13                        0   \n",
              "4                                7                        0   \n",
              "6                                8                        0   \n",
              "8                                2                        0   \n",
              "9                                9                        0   \n",
              "\n",
              "   NumberRealEstateLoansOrLines  NumberOfTime60-89DaysPastDueNotWorse  \\\n",
              "0                             6                                     0   \n",
              "4                             1                                     0   \n",
              "6                             3                                     0   \n",
              "8                             0                                     0   \n",
              "9                             4                                     0   \n",
              "\n",
              "   NumberOfDependents cohort_date Quarter Income Group  \n",
              "0                 2.0  2015-09-17  2015-3      Group 3  \n",
              "4                 0.0  2015-11-18  2015-4      Group 4  \n",
              "6                 0.0  2015-12-12  2015-4      Group 3  \n",
              "8                 0.0  2014-06-22  2014-2      Group 3  \n",
              "9                 2.0  2014-03-07  2014-1      Group 4  "
            ]
          },
          "metadata": {
            "tags": []
          },
          "execution_count": 108
        }
      ]
    },
    {
      "cell_type": "markdown",
      "metadata": {
        "id": "DBWPDmKrSYpL",
        "colab_type": "text"
      },
      "source": [
        "### 5. Create report"
      ]
    },
    {
      "cell_type": "code",
      "metadata": {
        "id": "5Fw6o9iySYpM",
        "colab_type": "code",
        "colab": {}
      },
      "source": [
        "# make dataframe groupby object\n",
        "\n",
        "\n",
        "import matplotlib.pytlot as plt\n",
        "import pandas as pd\n",
        "x=df['Income']\n",
        "y=df['Delinquency']\n",
        "plt.scatter(x,y)\n",
        "plt.show()\n"
      ],
      "execution_count": 0,
      "outputs": []
    },
    {
      "cell_type": "code",
      "metadata": {
        "id": "u9KdTmW1SYpQ",
        "colab_type": "code",
        "outputId": "794c1bb8-edd6-457e-e470-e5ed47960118",
        "colab": {}
      },
      "source": [
        "# report for delinquency\n",
        "\n",
        "\n",
        "data['Delinquency'].fillna(data['Delinquency'].mean(),inplace=True)\n"
      ],
      "execution_count": 0,
      "outputs": [
        {
          "output_type": "execute_result",
          "data": {
            "text/html": [
              "<div>\n",
              "<style>\n",
              "    .dataframe thead tr:only-child th {\n",
              "        text-align: right;\n",
              "    }\n",
              "\n",
              "    .dataframe thead th {\n",
              "        text-align: left;\n",
              "    }\n",
              "\n",
              "    .dataframe tbody tr th {\n",
              "        vertical-align: top;\n",
              "    }\n",
              "</style>\n",
              "<table border=\"1\" class=\"dataframe\">\n",
              "  <thead>\n",
              "    <tr style=\"text-align: right;\">\n",
              "      <th></th>\n",
              "      <th>Income Group</th>\n",
              "      <th>Quarter</th>\n",
              "      <th>Num loans</th>\n",
              "      <th>Delinquency</th>\n",
              "    </tr>\n",
              "  </thead>\n",
              "  <tbody>\n",
              "    <tr>\n",
              "      <th>0</th>\n",
              "      <td>Group 1</td>\n",
              "      <td>2014-1</td>\n",
              "      <td>1560</td>\n",
              "      <td>0.082692</td>\n",
              "    </tr>\n",
              "    <tr>\n",
              "      <th>1</th>\n",
              "      <td>Group 1</td>\n",
              "      <td>2014-2</td>\n",
              "      <td>1545</td>\n",
              "      <td>0.104207</td>\n",
              "    </tr>\n",
              "    <tr>\n",
              "      <th>2</th>\n",
              "      <td>Group 1</td>\n",
              "      <td>2014-3</td>\n",
              "      <td>1486</td>\n",
              "      <td>0.094886</td>\n",
              "    </tr>\n",
              "    <tr>\n",
              "      <th>3</th>\n",
              "      <td>Group 1</td>\n",
              "      <td>2014-4</td>\n",
              "      <td>1569</td>\n",
              "      <td>0.101976</td>\n",
              "    </tr>\n",
              "    <tr>\n",
              "      <th>4</th>\n",
              "      <td>Group 1</td>\n",
              "      <td>2015-1</td>\n",
              "      <td>1524</td>\n",
              "      <td>0.087270</td>\n",
              "    </tr>\n",
              "  </tbody>\n",
              "</table>\n",
              "</div>"
            ],
            "text/plain": [
              "  Income Group Quarter  Num loans  Delinquency\n",
              "0      Group 1  2014-1       1560     0.082692\n",
              "1      Group 1  2014-2       1545     0.104207\n",
              "2      Group 1  2014-3       1486     0.094886\n",
              "3      Group 1  2014-4       1569     0.101976\n",
              "4      Group 1  2015-1       1524     0.087270"
            ]
          },
          "metadata": {
            "tags": []
          },
          "execution_count": 110
        }
      ]
    },
    {
      "cell_type": "code",
      "metadata": {
        "id": "hyGWPpEUSYpV",
        "colab_type": "code",
        "outputId": "2ac4d3ba-ecdd-4f48-b33f-17fc60fc561c",
        "colab": {}
      },
      "source": [
        "# report for MonthlyIncome\n",
        "\n",
        "\n",
        "data['MonthlyIncome'].fillna(data['MonthlyIncome'].mean(),inplace=True)\n"
      ],
      "execution_count": 0,
      "outputs": [
        {
          "output_type": "execute_result",
          "data": {
            "text/html": [
              "<div>\n",
              "<style>\n",
              "    .dataframe thead tr:only-child th {\n",
              "        text-align: right;\n",
              "    }\n",
              "\n",
              "    .dataframe thead th {\n",
              "        text-align: left;\n",
              "    }\n",
              "\n",
              "    .dataframe tbody tr th {\n",
              "        vertical-align: top;\n",
              "    }\n",
              "</style>\n",
              "<table border=\"1\" class=\"dataframe\">\n",
              "  <thead>\n",
              "    <tr style=\"text-align: right;\">\n",
              "      <th></th>\n",
              "      <th>Income Group</th>\n",
              "      <th>Quarter</th>\n",
              "      <th>Income</th>\n",
              "    </tr>\n",
              "  </thead>\n",
              "  <tbody>\n",
              "    <tr>\n",
              "      <th>0</th>\n",
              "      <td>Group 1</td>\n",
              "      <td>2014-1</td>\n",
              "      <td>1683.596795</td>\n",
              "    </tr>\n",
              "    <tr>\n",
              "      <th>1</th>\n",
              "      <td>Group 1</td>\n",
              "      <td>2014-2</td>\n",
              "      <td>1709.381877</td>\n",
              "    </tr>\n",
              "    <tr>\n",
              "      <th>2</th>\n",
              "      <td>Group 1</td>\n",
              "      <td>2014-3</td>\n",
              "      <td>1678.436743</td>\n",
              "    </tr>\n",
              "    <tr>\n",
              "      <th>3</th>\n",
              "      <td>Group 1</td>\n",
              "      <td>2014-4</td>\n",
              "      <td>1666.393244</td>\n",
              "    </tr>\n",
              "    <tr>\n",
              "      <th>4</th>\n",
              "      <td>Group 1</td>\n",
              "      <td>2015-1</td>\n",
              "      <td>1675.868110</td>\n",
              "    </tr>\n",
              "  </tbody>\n",
              "</table>\n",
              "</div>"
            ],
            "text/plain": [
              "  Income Group Quarter       Income\n",
              "0      Group 1  2014-1  1683.596795\n",
              "1      Group 1  2014-2  1709.381877\n",
              "2      Group 1  2014-3  1678.436743\n",
              "3      Group 1  2014-4  1666.393244\n",
              "4      Group 1  2015-1  1675.868110"
            ]
          },
          "metadata": {
            "tags": []
          },
          "execution_count": 111
        }
      ]
    },
    {
      "cell_type": "code",
      "metadata": {
        "id": "qlb5Kz-nSYpc",
        "colab_type": "code",
        "outputId": "d2762270-8942-41fb-d412-6d485158c767",
        "colab": {}
      },
      "source": [
        "# merge both reports\n",
        "\n",
        "\n",
        "from sklearn.metrics import accuracy_score\n",
        "from sklearn.metrics import confusion_matrix\n",
        "from xgboost import XGBClassifier\n",
        "# fit model no training data\n",
        "model = XGBClassifier()\n",
        "model.fit(X,y.values.ravel())\n",
        "y_pred = model.predict(X)\n",
        "print(\"The Accuracy score is : \",accuracy_score(y,y_pred)*100,\"%\")\n",
        "print(confusion_matrix(y,y_pred))\n"
      ],
      "execution_count": 0,
      "outputs": [
        {
          "output_type": "execute_result",
          "data": {
            "text/html": [
              "<div>\n",
              "<style>\n",
              "    .dataframe thead tr:only-child th {\n",
              "        text-align: right;\n",
              "    }\n",
              "\n",
              "    .dataframe thead th {\n",
              "        text-align: left;\n",
              "    }\n",
              "\n",
              "    .dataframe tbody tr th {\n",
              "        vertical-align: top;\n",
              "    }\n",
              "</style>\n",
              "<table border=\"1\" class=\"dataframe\">\n",
              "  <thead>\n",
              "    <tr style=\"text-align: right;\">\n",
              "      <th></th>\n",
              "      <th>Income Group</th>\n",
              "      <th>Quarter</th>\n",
              "      <th>Num loans</th>\n",
              "      <th>Delinquency</th>\n",
              "      <th>Income</th>\n",
              "    </tr>\n",
              "  </thead>\n",
              "  <tbody>\n",
              "    <tr>\n",
              "      <th>0</th>\n",
              "      <td>Group 1</td>\n",
              "      <td>2014-1</td>\n",
              "      <td>1560</td>\n",
              "      <td>0.082692</td>\n",
              "      <td>1683.596795</td>\n",
              "    </tr>\n",
              "    <tr>\n",
              "      <th>1</th>\n",
              "      <td>Group 1</td>\n",
              "      <td>2014-2</td>\n",
              "      <td>1545</td>\n",
              "      <td>0.104207</td>\n",
              "      <td>1709.381877</td>\n",
              "    </tr>\n",
              "    <tr>\n",
              "      <th>2</th>\n",
              "      <td>Group 1</td>\n",
              "      <td>2014-3</td>\n",
              "      <td>1486</td>\n",
              "      <td>0.094886</td>\n",
              "      <td>1678.436743</td>\n",
              "    </tr>\n",
              "    <tr>\n",
              "      <th>3</th>\n",
              "      <td>Group 1</td>\n",
              "      <td>2014-4</td>\n",
              "      <td>1569</td>\n",
              "      <td>0.101976</td>\n",
              "      <td>1666.393244</td>\n",
              "    </tr>\n",
              "    <tr>\n",
              "      <th>4</th>\n",
              "      <td>Group 1</td>\n",
              "      <td>2015-1</td>\n",
              "      <td>1524</td>\n",
              "      <td>0.087270</td>\n",
              "      <td>1675.868110</td>\n",
              "    </tr>\n",
              "  </tbody>\n",
              "</table>\n",
              "</div>"
            ],
            "text/plain": [
              "  Income Group Quarter  Num loans  Delinquency       Income\n",
              "0      Group 1  2014-1       1560     0.082692  1683.596795\n",
              "1      Group 1  2014-2       1545     0.104207  1709.381877\n",
              "2      Group 1  2014-3       1486     0.094886  1678.436743\n",
              "3      Group 1  2014-4       1569     0.101976  1666.393244\n",
              "4      Group 1  2015-1       1524     0.087270  1675.868110"
            ]
          },
          "metadata": {
            "tags": []
          },
          "execution_count": 112
        }
      ]
    },
    {
      "cell_type": "code",
      "metadata": {
        "id": "_dxcrGreSYph",
        "colab_type": "code",
        "outputId": "c0e3d4ac-9e46-4b77-a05b-8fb0527799e0",
        "colab": {}
      },
      "source": [
        "# pivot table\n",
        "\n",
        "dfmi.loc[:, ('one', 'second')] = value\n",
        "# becomes\n",
        "dfmi.loc.__setitem__((slice(None), ('one', 'second')), value)\n",
        "\n",
        "# arrange for final report\n",
        "\n",
        "dfmi['one']['second'] = value\n",
        "# becomes\n",
        "dfmi.__getitem__('one').__setitem__('second', value)\n",
        "\n",
        "\n",
        "# export to csv\n",
        "\n",
        "\n"
      ],
      "execution_count": 0,
      "outputs": [
        {
          "output_type": "execute_result",
          "data": {
            "text/html": [
              "<div>\n",
              "<style>\n",
              "    .dataframe thead tr:only-child th {\n",
              "        text-align: right;\n",
              "    }\n",
              "\n",
              "    .dataframe thead th {\n",
              "        text-align: left;\n",
              "    }\n",
              "\n",
              "    .dataframe tbody tr th {\n",
              "        vertical-align: top;\n",
              "    }\n",
              "</style>\n",
              "<table border=\"1\" class=\"dataframe\">\n",
              "  <thead>\n",
              "    <tr style=\"text-align: right;\">\n",
              "      <th></th>\n",
              "      <th>Quarter</th>\n",
              "      <th>2014-1</th>\n",
              "      <th>2014-2</th>\n",
              "      <th>2014-3</th>\n",
              "      <th>2014-4</th>\n",
              "      <th>2015-1</th>\n",
              "      <th>2015-2</th>\n",
              "      <th>2015-3</th>\n",
              "      <th>2015-4</th>\n",
              "    </tr>\n",
              "    <tr>\n",
              "      <th>Income Group</th>\n",
              "      <th></th>\n",
              "      <th></th>\n",
              "      <th></th>\n",
              "      <th></th>\n",
              "      <th></th>\n",
              "      <th></th>\n",
              "      <th></th>\n",
              "      <th></th>\n",
              "      <th></th>\n",
              "    </tr>\n",
              "  </thead>\n",
              "  <tbody>\n",
              "    <tr>\n",
              "      <th rowspan=\"3\" valign=\"top\">Group 1</th>\n",
              "      <th>Delinquency</th>\n",
              "      <td>0.082692</td>\n",
              "      <td>0.104207</td>\n",
              "      <td>0.094886</td>\n",
              "      <td>0.101976</td>\n",
              "      <td>0.087270</td>\n",
              "      <td>0.102923</td>\n",
              "      <td>0.083499</td>\n",
              "      <td>0.096178</td>\n",
              "    </tr>\n",
              "    <tr>\n",
              "      <th>Income</th>\n",
              "      <td>1683.596795</td>\n",
              "      <td>1709.381877</td>\n",
              "      <td>1678.436743</td>\n",
              "      <td>1666.393244</td>\n",
              "      <td>1675.868110</td>\n",
              "      <td>1655.060292</td>\n",
              "      <td>1686.732273</td>\n",
              "      <td>1680.112824</td>\n",
              "    </tr>\n",
              "    <tr>\n",
              "      <th>Num loans</th>\n",
              "      <td>1560.000000</td>\n",
              "      <td>1545.000000</td>\n",
              "      <td>1486.000000</td>\n",
              "      <td>1569.000000</td>\n",
              "      <td>1524.000000</td>\n",
              "      <td>1642.000000</td>\n",
              "      <td>1509.000000</td>\n",
              "      <td>1622.000000</td>\n",
              "    </tr>\n",
              "    <tr>\n",
              "      <th rowspan=\"3\" valign=\"top\">Group 2</th>\n",
              "      <th>Delinquency</th>\n",
              "      <td>0.088301</td>\n",
              "      <td>0.084932</td>\n",
              "      <td>0.088118</td>\n",
              "      <td>0.079920</td>\n",
              "      <td>0.085162</td>\n",
              "      <td>0.093519</td>\n",
              "      <td>0.084371</td>\n",
              "      <td>0.090403</td>\n",
              "    </tr>\n",
              "    <tr>\n",
              "      <th>Income</th>\n",
              "      <td>3838.567492</td>\n",
              "      <td>3832.727945</td>\n",
              "      <td>3832.210631</td>\n",
              "      <td>3845.432254</td>\n",
              "      <td>3834.719977</td>\n",
              "      <td>3830.233655</td>\n",
              "      <td>3803.901521</td>\n",
              "      <td>3844.262031</td>\n",
              "    </tr>\n",
              "    <tr>\n",
              "      <th>Num loans</th>\n",
              "      <td>3556.000000</td>\n",
              "      <td>3650.000000</td>\n",
              "      <td>3518.000000</td>\n",
              "      <td>3491.000000</td>\n",
              "      <td>3464.000000</td>\n",
              "      <td>3518.000000</td>\n",
              "      <td>3615.000000</td>\n",
              "      <td>3595.000000</td>\n",
              "    </tr>\n",
              "    <tr>\n",
              "      <th rowspan=\"3\" valign=\"top\">Group 3</th>\n",
              "      <th>Delinquency</th>\n",
              "      <td>0.054484</td>\n",
              "      <td>0.056326</td>\n",
              "      <td>0.058782</td>\n",
              "      <td>0.056920</td>\n",
              "      <td>0.057347</td>\n",
              "      <td>0.059867</td>\n",
              "      <td>0.060669</td>\n",
              "      <td>0.062171</td>\n",
              "    </tr>\n",
              "    <tr>\n",
              "      <th>Income</th>\n",
              "      <td>6470.650570</td>\n",
              "      <td>6499.673648</td>\n",
              "      <td>6450.835689</td>\n",
              "      <td>6464.588867</td>\n",
              "      <td>6494.781455</td>\n",
              "      <td>6480.926798</td>\n",
              "      <td>6454.233236</td>\n",
              "      <td>6485.409859</td>\n",
              "    </tr>\n",
              "    <tr>\n",
              "      <th>Num loans</th>\n",
              "      <td>7103.000000</td>\n",
              "      <td>7066.000000</td>\n",
              "      <td>7145.000000</td>\n",
              "      <td>7168.000000</td>\n",
              "      <td>7010.000000</td>\n",
              "      <td>7049.000000</td>\n",
              "      <td>7203.000000</td>\n",
              "      <td>7222.000000</td>\n",
              "    </tr>\n",
              "    <tr>\n",
              "      <th rowspan=\"3\" valign=\"top\">Group 4</th>\n",
              "      <th>Delinquency</th>\n",
              "      <td>0.041543</td>\n",
              "      <td>0.046110</td>\n",
              "      <td>0.040517</td>\n",
              "      <td>0.041593</td>\n",
              "      <td>0.042388</td>\n",
              "      <td>0.039414</td>\n",
              "      <td>0.055911</td>\n",
              "      <td>0.039071</td>\n",
              "    </tr>\n",
              "    <tr>\n",
              "      <th>Income</th>\n",
              "      <td>18130.696142</td>\n",
              "      <td>16482.202305</td>\n",
              "      <td>15837.686436</td>\n",
              "      <td>16990.752197</td>\n",
              "      <td>16240.778507</td>\n",
              "      <td>15663.829955</td>\n",
              "      <td>15568.647641</td>\n",
              "      <td>16868.279728</td>\n",
              "    </tr>\n",
              "    <tr>\n",
              "      <th>Num loans</th>\n",
              "      <td>1685.000000</td>\n",
              "      <td>1735.000000</td>\n",
              "      <td>1703.000000</td>\n",
              "      <td>1707.000000</td>\n",
              "      <td>1675.000000</td>\n",
              "      <td>1776.000000</td>\n",
              "      <td>1717.000000</td>\n",
              "      <td>1766.000000</td>\n",
              "    </tr>\n",
              "  </tbody>\n",
              "</table>\n",
              "</div>"
            ],
            "text/plain": [
              "Quarter                         2014-1        2014-2        2014-3  \\\n",
              "Income Group                                                         \n",
              "Group 1      Delinquency      0.082692      0.104207      0.094886   \n",
              "             Income        1683.596795   1709.381877   1678.436743   \n",
              "             Num loans     1560.000000   1545.000000   1486.000000   \n",
              "Group 2      Delinquency      0.088301      0.084932      0.088118   \n",
              "             Income        3838.567492   3832.727945   3832.210631   \n",
              "             Num loans     3556.000000   3650.000000   3518.000000   \n",
              "Group 3      Delinquency      0.054484      0.056326      0.058782   \n",
              "             Income        6470.650570   6499.673648   6450.835689   \n",
              "             Num loans     7103.000000   7066.000000   7145.000000   \n",
              "Group 4      Delinquency      0.041543      0.046110      0.040517   \n",
              "             Income       18130.696142  16482.202305  15837.686436   \n",
              "             Num loans     1685.000000   1735.000000   1703.000000   \n",
              "\n",
              "Quarter                         2014-4        2015-1        2015-2  \\\n",
              "Income Group                                                         \n",
              "Group 1      Delinquency      0.101976      0.087270      0.102923   \n",
              "             Income        1666.393244   1675.868110   1655.060292   \n",
              "             Num loans     1569.000000   1524.000000   1642.000000   \n",
              "Group 2      Delinquency      0.079920      0.085162      0.093519   \n",
              "             Income        3845.432254   3834.719977   3830.233655   \n",
              "             Num loans     3491.000000   3464.000000   3518.000000   \n",
              "Group 3      Delinquency      0.056920      0.057347      0.059867   \n",
              "             Income        6464.588867   6494.781455   6480.926798   \n",
              "             Num loans     7168.000000   7010.000000   7049.000000   \n",
              "Group 4      Delinquency      0.041593      0.042388      0.039414   \n",
              "             Income       16990.752197  16240.778507  15663.829955   \n",
              "             Num loans     1707.000000   1675.000000   1776.000000   \n",
              "\n",
              "Quarter                         2015-3        2015-4  \n",
              "Income Group                                          \n",
              "Group 1      Delinquency      0.083499      0.096178  \n",
              "             Income        1686.732273   1680.112824  \n",
              "             Num loans     1509.000000   1622.000000  \n",
              "Group 2      Delinquency      0.084371      0.090403  \n",
              "             Income        3803.901521   3844.262031  \n",
              "             Num loans     3615.000000   3595.000000  \n",
              "Group 3      Delinquency      0.060669      0.062171  \n",
              "             Income        6454.233236   6485.409859  \n",
              "             Num loans     7203.000000   7222.000000  \n",
              "Group 4      Delinquency      0.055911      0.039071  \n",
              "             Income       15568.647641  16868.279728  \n",
              "             Num loans     1717.000000   1766.000000  "
            ]
          },
          "metadata": {
            "tags": []
          },
          "execution_count": 113
        }
      ]
    },
    {
      "cell_type": "markdown",
      "metadata": {
        "id": "9F4ON3BvSYpm",
        "colab_type": "text"
      },
      "source": [
        "### 6. Graph"
      ]
    },
    {
      "cell_type": "code",
      "metadata": {
        "id": "ppuWacnASYpn",
        "colab_type": "code",
        "colab": {}
      },
      "source": [
        "# bar plot\n",
        "\n",
        "\n",
        "plt.figure(figsize=(10,6))\n",
        "plt.xlabel(\"CREDIT DATA\")\n",
        "plt.hist(x=loan[loan['DebtRatio']==0]['fico'],label='credit policy=0',color='red',edgecolor='black',bins=30)\n",
        "plt.hist(x=loan[loan['DebtRatio']==1]['fico'],label='credit policy=1',alpha=0.7,edgecolor='black',bins=30)\n",
        "plt.legend()\n",
        "\n",
        "\n",
        "# line plot\n",
        "\n",
        "\n"
      ],
      "execution_count": 0,
      "outputs": []
    },
    {
      "cell_type": "markdown",
      "metadata": {
        "id": "4zFQ8u6ySYpt",
        "colab_type": "text"
      },
      "source": [
        "### 7. Exploratory Data Analysis"
      ]
    },
    {
      "cell_type": "code",
      "metadata": {
        "id": "ifj0kroySYp1",
        "colab_type": "code",
        "outputId": "b9ef14d2-82e1-41ad-8e0b-be965dd6fa3b",
        "colab": {}
      },
      "source": [
        "# Scatter plot with margins\n",
        "\n",
        "g = sns.JointGrid(x=\"total_bill\", y=\"tip\", data=tips)\n",
        "g = g.plot(sns.regplot, sns.distplot)"
      ],
      "execution_count": 0,
      "outputs": [
        {
          "output_type": "execute_result",
          "data": {
            "text/plain": [
              "<seaborn.axisgrid.JointGrid at 0x1a344c9da0>"
            ]
          },
          "metadata": {
            "tags": []
          },
          "execution_count": 158
        },
        {
          "output_type": "display_data",
          "data": {
            "image/png": "[encoded data removed]",
            "text/plain": [
              "<matplotlib.figure.Figure at 0x1a344c9d68>"
            ]
          },
          "metadata": {
            "tags": []
          }
        }
      ]
    }
  ]
}